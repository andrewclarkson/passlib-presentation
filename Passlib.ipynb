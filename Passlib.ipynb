{
 "metadata": {
  "name": "",
  "signature": "sha256:70ef7e2018c6dda4bacd68b2779828934340b6f8d88837180bdd3bde0b285a67"
 },
 "nbformat": 3,
 "nbformat_minor": 0,
 "worksheets": [
  {
   "cells": [
    {
     "cell_type": "markdown",
     "metadata": {},
     "source": [
      "#A Less Gnarly Intro to Password Hashing\n",
      "_because passwords are hard..._\n"
     ]
    },
    {
     "cell_type": "markdown",
     "metadata": {},
     "source": [
      "#Authentication is Hard\n",
      "Always a sticking point.\n",
      "\n",
      "Two Choices:\n",
      "- Use an application framework\n",
      "- Roll your own"
     ]
    },
    {
     "cell_type": "code",
     "collapsed": true,
     "input": [
      "from sqlalchemy import Column, Integer, String, create_engine\n",
      "from sqlalchemy.ext.declarative import declarative_base\n",
      "from sqlalchemy.orm import sessionmaker\n",
      "\n",
      "Base = declarative_base()\n",
      "\n",
      "class User(Base):\n",
      "    __tablename__ = 'users'\n",
      "    id = Column(Integer, primary_key=True)\n",
      "    username = Column(String)\n",
      "    fullname = Column(String)\n",
      "    password = Column(String)\n",
      "    \n",
      "    def __repr__(self):\n",
      "        return \"<User(username='%s', fullname='%s', password='%s')>\" % (self.username, self.fullname, self.password)\n",
      "    \n",
      "engine = create_engine('sqlite:///:memory:', echo=True)\n",
      "Base.metadata.create_all(engine)\n",
      "Session = sessionmaker(bind=engine)\n",
      "session = Session()"
     ],
     "language": "python",
     "metadata": {},
     "outputs": [
      {
       "output_type": "stream",
       "stream": "stdout",
       "text": [
        "2014-09-18 18:27:47,641 INFO sqlalchemy.engine.base.Engine SELECT CAST('test plain returns' AS VARCHAR(60)) AS anon_1\n"
       ]
      },
      {
       "output_type": "stream",
       "stream": "stderr",
       "text": [
        "INFO:sqlalchemy.engine.base.Engine:SELECT CAST('test plain returns' AS VARCHAR(60)) AS anon_1\n"
       ]
      },
      {
       "output_type": "stream",
       "stream": "stdout",
       "text": [
        "2014-09-18 18:27:47,642 INFO sqlalchemy.engine.base.Engine ()\n"
       ]
      },
      {
       "output_type": "stream",
       "stream": "stderr",
       "text": [
        "INFO:sqlalchemy.engine.base.Engine:()\n"
       ]
      },
      {
       "output_type": "stream",
       "stream": "stdout",
       "text": [
        "2014-09-18 18:27:47,644 INFO sqlalchemy.engine.base.Engine SELECT CAST('test unicode returns' AS VARCHAR(60)) AS anon_1\n"
       ]
      },
      {
       "output_type": "stream",
       "stream": "stderr",
       "text": [
        "INFO:sqlalchemy.engine.base.Engine:SELECT CAST('test unicode returns' AS VARCHAR(60)) AS anon_1\n"
       ]
      },
      {
       "output_type": "stream",
       "stream": "stdout",
       "text": [
        "2014-09-18 18:27:47,644 INFO sqlalchemy.engine.base.Engine ()\n"
       ]
      },
      {
       "output_type": "stream",
       "stream": "stderr",
       "text": [
        "INFO:sqlalchemy.engine.base.Engine:()\n"
       ]
      },
      {
       "output_type": "stream",
       "stream": "stdout",
       "text": [
        "2014-09-18 18:27:47,646 INFO sqlalchemy.engine.base.Engine PRAGMA table_info(\"users\")\n"
       ]
      },
      {
       "output_type": "stream",
       "stream": "stderr",
       "text": [
        "INFO:sqlalchemy.engine.base.Engine:PRAGMA table_info(\"users\")\n"
       ]
      },
      {
       "output_type": "stream",
       "stream": "stdout",
       "text": [
        "2014-09-18 18:27:47,647 INFO sqlalchemy.engine.base.Engine ()\n"
       ]
      },
      {
       "output_type": "stream",
       "stream": "stderr",
       "text": [
        "INFO:sqlalchemy.engine.base.Engine:()\n"
       ]
      },
      {
       "output_type": "stream",
       "stream": "stdout",
       "text": [
        "2014-09-18 18:27:47,649 INFO sqlalchemy.engine.base.Engine \n",
        "CREATE TABLE users (\n",
        "\tid INTEGER NOT NULL, \n",
        "\tusername VARCHAR, \n",
        "\tfullname VARCHAR, \n",
        "\tpassword VARCHAR, \n",
        "\tPRIMARY KEY (id)\n",
        ")\n",
        "\n",
        "\n"
       ]
      },
      {
       "output_type": "stream",
       "stream": "stderr",
       "text": [
        "INFO:sqlalchemy.engine.base.Engine:\n",
        "CREATE TABLE users (\n",
        "\tid INTEGER NOT NULL, \n",
        "\tusername VARCHAR, \n",
        "\tfullname VARCHAR, \n",
        "\tpassword VARCHAR, \n",
        "\tPRIMARY KEY (id)\n",
        ")\n",
        "\n",
        "\n"
       ]
      },
      {
       "output_type": "stream",
       "stream": "stdout",
       "text": [
        "2014-09-18 18:27:47,650 INFO sqlalchemy.engine.base.Engine ()\n"
       ]
      },
      {
       "output_type": "stream",
       "stream": "stderr",
       "text": [
        "INFO:sqlalchemy.engine.base.Engine:()\n"
       ]
      },
      {
       "output_type": "stream",
       "stream": "stdout",
       "text": [
        "2014-09-18 18:27:47,651 INFO sqlalchemy.engine.base.Engine COMMIT\n"
       ]
      },
      {
       "output_type": "stream",
       "stream": "stderr",
       "text": [
        "INFO:sqlalchemy.engine.base.Engine:COMMIT\n"
       ]
      }
     ],
     "prompt_number": 2
    },
    {
     "cell_type": "markdown",
     "metadata": {},
     "source": [
      "#The 5 ways we screw it up\n",
      "1. Plain-text\n",
      "2. 2-way Encryption\n",
      "3. No Salt\n",
      "4. Too Fast\n",
      "5. Bad Administration"
     ]
    },
    {
     "cell_type": "markdown",
     "metadata": {},
     "source": [
      "#Plain-text"
     ]
    },
    {
     "cell_type": "code",
     "collapsed": false,
     "input": [
      "user = User(username=\"jdoe\", fullname=\"Jane Doe\", password=\"password\")\n",
      "user"
     ],
     "language": "python",
     "metadata": {},
     "outputs": [
      {
       "metadata": {},
       "output_type": "pyout",
       "prompt_number": 4,
       "text": [
        "<User(username='jdoe', fullname='Jane Doe', password='password')>"
       ]
      }
     ],
     "prompt_number": 4
    },
    {
     "cell_type": "markdown",
     "metadata": {},
     "source": [
      "#Encryption"
     ]
    },
    {
     "cell_type": "code",
     "collapsed": false,
     "input": [
      "from Crypto.Cipher import AES\n",
      "from Crypto import Random\n",
      "from binascii import hexlify\n",
      "\n",
      "\n",
      "key = b'a secret key!!!!'\n",
      "iv = Random.new().read(AES.block_size)\n",
      "cipher = AES.new(key, AES.MODE_CFB, iv)\n",
      "\n",
      "user.password = hexlify(iv + cipher.encrypt(b'password'))"
     ],
     "language": "python",
     "metadata": {},
     "outputs": [],
     "prompt_number": 27
    },
    {
     "cell_type": "code",
     "collapsed": false,
     "input": [
      "from binascii import unhexlify\n",
      "cipher.decrypt(unhexlify(user.password))[16:]"
     ],
     "language": "python",
     "metadata": {},
     "outputs": [
      {
       "metadata": {},
       "output_type": "pyout",
       "prompt_number": 29,
       "text": [
        "b'password'"
       ]
      }
     ],
     "prompt_number": 29
    },
    {
     "cell_type": "markdown",
     "metadata": {},
     "source": [
      "#Just Hash"
     ]
    },
    {
     "cell_type": "code",
     "collapsed": false,
     "input": [
      "import hashlib\n",
      "\n",
      "user.password = hashlib.sha1(b\"password\").hexdigest()\n",
      "\n",
      "user"
     ],
     "language": "python",
     "metadata": {},
     "outputs": [
      {
       "metadata": {},
       "output_type": "pyout",
       "prompt_number": 32,
       "text": [
        "<User(username='jdoe', fullname='Jane Doe', password='5baa61e4c9b93f3f0682250b6cf8331b7ee68fd8')>"
       ]
      }
     ],
     "prompt_number": 32
    },
    {
     "cell_type": "markdown",
     "metadata": {},
     "source": [
      "#Too Fast"
     ]
    },
    {
     "cell_type": "code",
     "collapsed": false,
     "input": [
      "import hashlib\n",
      "\n",
      "SALT = b\"super secret salt\"\n",
      "\n",
      "user.password = hashlib.sha1(SALT + b\"password\").hexdigest()\n",
      "\n",
      "user"
     ],
     "language": "python",
     "metadata": {},
     "outputs": [
      {
       "metadata": {},
       "output_type": "pyout",
       "prompt_number": 33,
       "text": [
        "<User(username='jdoe', fullname='Jane Doe', password='50630b9454db9213c62cffc62183078c09455685')>"
       ]
      }
     ],
     "prompt_number": 33
    },
    {
     "cell_type": "markdown",
     "metadata": {},
     "source": [
      "#No Modularity"
     ]
    },
    {
     "cell_type": "code",
     "collapsed": false,
     "input": [
      "import hashlib\n",
      "from binascii import hexlify\n",
      "\n",
      "SALT = b\"super secret salt\"\n",
      "\n",
      "user.password = hexlify(hashlib.pbkdf2_hmac('sha256', b'password', SALT, 100000))\n",
      "user"
     ],
     "language": "python",
     "metadata": {},
     "outputs": [
      {
       "metadata": {},
       "output_type": "pyout",
       "prompt_number": 35,
       "text": [
        "<User(username='jdoe', fullname='Jane Doe', password='b'1be8aef498ab6b0abb02e872b885f20a4587aac3b1ab923c3180309a13374ed1'')>"
       ]
      }
     ],
     "prompt_number": 35
    },
    {
     "cell_type": "markdown",
     "metadata": {},
     "source": [
      "#How to do passwords"
     ]
    },
    {
     "cell_type": "code",
     "collapsed": false,
     "input": [
      "from passlib.context import CryptContext\n",
      "\n",
      "hasher = CryptContext(schemes=[\"bcrypt\", \"pbkdf2_sha256\"])\n",
      "user.password = hasher.encrypt(\"password\")\n",
      "user"
     ],
     "language": "python",
     "metadata": {},
     "outputs": [
      {
       "metadata": {},
       "output_type": "pyout",
       "prompt_number": 5,
       "text": [
        "<User(username='jdoe', fullname='Jane Doe', password='$2a$12$Z4irljdeu.Im.OZQYe14Tu6./Xi7wB60N7xNjBIBzaUdylE2wh/qC')>"
       ]
      }
     ],
     "prompt_number": 5
    },
    {
     "cell_type": "code",
     "collapsed": false,
     "input": [
      "session.add(user)\n",
      "session.commit()"
     ],
     "language": "python",
     "metadata": {},
     "outputs": [
      {
       "output_type": "stream",
       "stream": "stdout",
       "text": [
        "2014-09-18 18:28:44,957 INFO sqlalchemy.engine.base.Engine BEGIN (implicit)\n"
       ]
      },
      {
       "output_type": "stream",
       "stream": "stderr",
       "text": [
        "INFO:sqlalchemy.engine.base.Engine:BEGIN (implicit)\n"
       ]
      },
      {
       "output_type": "stream",
       "stream": "stdout",
       "text": [
        "2014-09-18 18:28:44,962 INFO sqlalchemy.engine.base.Engine INSERT INTO users (username, fullname, password) VALUES (?, ?, ?)\n"
       ]
      },
      {
       "output_type": "stream",
       "stream": "stderr",
       "text": [
        "INFO:sqlalchemy.engine.base.Engine:INSERT INTO users (username, fullname, password) VALUES (?, ?, ?)\n"
       ]
      },
      {
       "output_type": "stream",
       "stream": "stdout",
       "text": [
        "2014-09-18 18:28:44,965 INFO sqlalchemy.engine.base.Engine ('jdoe', 'Jane Doe', '$2a$12$Z4irljdeu.Im.OZQYe14Tu6./Xi7wB60N7xNjBIBzaUdylE2wh/qC')\n"
       ]
      },
      {
       "output_type": "stream",
       "stream": "stderr",
       "text": [
        "INFO:sqlalchemy.engine.base.Engine:('jdoe', 'Jane Doe', '$2a$12$Z4irljdeu.Im.OZQYe14Tu6./Xi7wB60N7xNjBIBzaUdylE2wh/qC')\n"
       ]
      },
      {
       "output_type": "stream",
       "stream": "stdout",
       "text": [
        "2014-09-18 18:28:44,969 INFO sqlalchemy.engine.base.Engine COMMIT\n"
       ]
      },
      {
       "output_type": "stream",
       "stream": "stderr",
       "text": [
        "INFO:sqlalchemy.engine.base.Engine:COMMIT\n"
       ]
      }
     ],
     "prompt_number": 6
    },
    {
     "cell_type": "code",
     "collapsed": false,
     "input": [
      "jane = session.query(User).filter(User.username == \"jdoe\").all()[0]"
     ],
     "language": "python",
     "metadata": {},
     "outputs": [
      {
       "output_type": "stream",
       "stream": "stdout",
       "text": [
        "2014-09-18 18:29:59,767 INFO sqlalchemy.engine.base.Engine SELECT users.id AS users_id, users.username AS users_username, users.fullname AS users_fullname, users.password AS users_password \n",
        "FROM users \n",
        "WHERE users.username = ?\n"
       ]
      },
      {
       "output_type": "stream",
       "stream": "stderr",
       "text": [
        "INFO:sqlalchemy.engine.base.Engine:SELECT users.id AS users_id, users.username AS users_username, users.fullname AS users_fullname, users.password AS users_password \n",
        "FROM users \n",
        "WHERE users.username = ?\n"
       ]
      },
      {
       "output_type": "stream",
       "stream": "stdout",
       "text": [
        "2014-09-18 18:29:59,772 INFO sqlalchemy.engine.base.Engine ('jdoe',)\n"
       ]
      },
      {
       "output_type": "stream",
       "stream": "stderr",
       "text": [
        "INFO:sqlalchemy.engine.base.Engine:('jdoe',)\n"
       ]
      }
     ],
     "prompt_number": 12
    },
    {
     "cell_type": "code",
     "collapsed": false,
     "input": [
      "hasher.verify(\"password\", jane.password)"
     ],
     "language": "python",
     "metadata": {},
     "outputs": [
      {
       "metadata": {},
       "output_type": "pyout",
       "prompt_number": 13,
       "text": [
        "True"
       ]
      }
     ],
     "prompt_number": 13
    },
    {
     "cell_type": "code",
     "collapsed": false,
     "input": [],
     "language": "python",
     "metadata": {},
     "outputs": []
    }
   ],
   "metadata": {}
  }
 ]
}